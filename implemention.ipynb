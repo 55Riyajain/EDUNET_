{
  "nbformat": 4,
  "nbformat_minor": 0,
  "metadata": {
    "colab": {
      "provenance": [],
      "authorship_tag": "ABX9TyMznoxIQtubSHDE3oW6njBA",
      "include_colab_link": true
    },
    "kernelspec": {
      "name": "python3",
      "display_name": "Python 3"
    },
    "language_info": {
      "name": "python"
    }
  },
  "cells": [
    {
      "cell_type": "markdown",
      "metadata": {
        "id": "view-in-github",
        "colab_type": "text"
      },
      "source": [
        "<a href=\"https://colab.research.google.com/github/55Riyajain/EDUNET_/blob/main/implemention.ipynb\" target=\"_parent\"><img src=\"https://colab.research.google.com/assets/colab-badge.svg\" alt=\"Open In Colab\"/></a>"
      ]
    },
    {
      "cell_type": "code",
      "execution_count": null,
      "metadata": {
        "id": "nlf5Q7kc8sfl"
      },
      "outputs": [],
      "source": [
        "import pickle\n",
        "import os\n",
        "from user import User\n",
        "from tracker import Tracker\n",
        "\n",
        "# Data files\n",
        "USER_DATA_FILE = 'data/users.pkl'\n",
        "ACTIVITY_DATA_FILE = 'data/activities.pkl'\n",
        "\n",
        "# Ensure the data directory exists\n",
        "if not os.path.exists('data'):\n",
        "    os.makedirs('data')\n",
        "\n",
        "# Load existing data if available\n",
        "def load_data():\n",
        "    users = {}\n",
        "    activities = []\n",
        "    if os.path.exists(USER_DATA_FILE):\n",
        "        with open(USER_DATA_FILE, 'rb') as f:\n",
        "            users = pickle.load(f)\n",
        "\n",
        "    if os.path.exists(ACTIVITY_DATA_FILE):\n",
        "        with open(ACTIVITY_DATA_FILE, 'rb') as f:\n",
        "            activities = pickle.load(f)\n",
        "\n",
        "    return users, activities\n",
        "\n",
        "# Save the updated data to the files\n",
        "def save_data(users, activities):\n",
        "    with open(USER_DATA_FILE, 'wb') as f:\n",
        "        pickle.dump(users, f)\n",
        "\n",
        "    with open(ACTIVITY_DATA_FILE, 'wb') as f:\n",
        "        pickle.dump(activities, f)\n",
        "\n",
        "# Main application function\n",
        "def main():\n",
        "    print(\"Welcome to the Personal Fitness Tracker!\")\n",
        "    users, activities = load_data()\n",
        "\n",
        "    while True:\n",
        "        print(\"\\nMenu:\")\n",
        "        print(\"1. Register\")\n",
        "        print(\"2. Login\")\n",
        "        print(\"3. Exit\")\n",
        "\n",
        "        choice = input(\"Choose an option: \")\n",
        "\n",
        "        if choice == '1':\n",
        "            username = input(\"Enter a username: \")\n",
        "            password = input(\"Enter a password: \")\n",
        "            if username in users:\n",
        "                print(\"User already exists! Please try logging in.\")\n",
        "            else:\n",
        "                user = User(username, password)\n",
        "                users[username] = user\n",
        "                save_data(users, activities)\n",
        "                print(f\"User {username} successfully registered!\")\n",
        "\n",
        "        elif choice == '2':\n",
        "            username = input(\"Enter your username: \")\n",
        "            password = input(\"Enter your password: \")\n",
        "\n",
        "            if username not in users or users[username].password != password:\n",
        "                print(\"Invalid login credentials!\")\n",
        "                continue\n",
        "\n",
        "            print(f\"Welcome back, {username}!\")\n",
        "            tracker = Tracker(username, users[username], activities)\n",
        "\n",
        "            while True:\n",
        "                print(\"\\nTracker Menu:\")\n",
        "                print(\"1. Log Activity\")\n",
        "                print(\"2. View Activities\")\n",
        "                print(\"3. View Stats\")\n",
        "                print(\"4. Logout\")\n",
        "\n",
        "                choice = input(\"Choose an option: \")\n",
        "\n",
        "                if choice == '1':\n",
        "                    activity_type = input(\"Enter activity type (e.g., running, cycling): \")\n",
        "                    duration = int(input(\"Enter duration in minutes: \"))\n",
        "                    tracker.log_activity(activity_type, duration)\n",
        "                    save_data(users, activities)\n",
        "                elif choice == '2':\n",
        "                    tracker.view_activities()\n",
        "                elif choice == '3':\n",
        "                    tracker.view_stats()\n",
        "                elif choice == '4':\n",
        "                    print(\"Logging out...\")\n"
      ]
    },
    {
      "cell_type": "code",
      "source": [
        "class Tracker:\n",
        "    def __init__(self, username, user, activities):\n",
        "        self.username = username\n",
        "        self.user = user\n",
        "        self.activities = activities\n",
        "\n",
        "    def log_activity(self, activity_type, duration):\n",
        "        # Simple calorie calculation: 10 calories per minute\n",
        "        calories_burned = duration * 10\n",
        "        activity = {\n",
        "            'username': self.username,\n",
        "            'activity_type': activity_type,\n",
        "            'duration': duration,\n",
        "            'calories_burned': calories_burned\n",
        "        }\n",
        "        self.user.activities.append(activity)\n",
        "        self.activities.append(activity)\n",
        "        print(f\"Logged {activity_type} activity: {duration} minutes, {calories_burned} calories burned.\")\n",
        "\n",
        "    def view_activities(self):\n",
        "        print(\"\\nActivity Log:\")\n",
        "        for activity in self.user.activities:\n",
        "            print(f\"{activity['activity_type']} | {activity['duration']} minutes | {activity['calories_burned']} calories burned\")\n",
        "\n",
        "    def view_stats(self):\n",
        "        total_duration = sum([activity['duration'] for activity in self.user.activities])\n",
        "        total_calories = sum([activity['calories_burned'] for activity in self.user.activities])\n",
        "        print(f\"\\nStats for {self.username}:\")\n",
        "        print(f\"Total Duration: {total_duration} minutes\")\n",
        "        print(f\"Total Calories Burned: {total_calories} calories\")\n"
      ],
      "metadata": {
        "id": "lD1f2VCz8uVE"
      },
      "execution_count": null,
      "outputs": []
    },
    {
      "cell_type": "code",
      "source": [],
      "metadata": {
        "id": "4HYZxzdD8zRO"
      },
      "execution_count": null,
      "outputs": []
    }
  ]
}