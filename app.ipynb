{
  "nbformat": 4,
  "nbformat_minor": 0,
  "metadata": {
    "colab": {
      "provenance": [],
      "authorship_tag": "ABX9TyOpD5WLdXRENFZLa9rPkS5W",
      "include_colab_link": true
    },
    "kernelspec": {
      "name": "python3",
      "display_name": "Python 3"
    },
    "language_info": {
      "name": "python"
    }
  },
  "cells": [
    {
      "cell_type": "markdown",
      "metadata": {
        "id": "view-in-github",
        "colab_type": "text"
      },
      "source": [
        "<a href=\"https://colab.research.google.com/github/55Riyajain/EDUNET_/blob/main/Untitled0.ipynb\" target=\"_parent\"><img src=\"https://colab.research.google.com/assets/colab-badge.svg\" alt=\"Open In Colab\"/></a>"
      ]
    },
    {
      "cell_type": "markdown",
      "source": [],
      "metadata": {
        "id": "Wlph3uX55HEH"
      }
    },
    {
      "cell_type": "code",
      "source": [
        "pip install flask flask_sqlalchemy flask_login\n"
      ],
      "metadata": {
        "id": "RE4miVTx5IiA"
      },
      "execution_count": null,
      "outputs": []
    },
    {
      "cell_type": "code",
      "source": [
        "from flask import Flask, render_template\n",
        "from flask_sqlalchemy import SQLAlchemy\n",
        "from flask_login import LoginManager\n",
        "\n",
        "app = Flask(__name__)\n",
        "app.config['SECRET_KEY'] = 'mysecretkey'\n",
        "app.config['SQLALCHEMY_DATABASE_URI'] = 'sqlite:///fitness.db'\n",
        "\n",
        "db = SQLAlchemy(app)\n",
        "login_manager = LoginManager(app)\n",
        "\n",
        "from routes import *\n",
        "\n",
        "if __name__ == \"__main__\":\n",
        "    app.run(debug=True)\n"
      ],
      "metadata": {
        "id": "6iyWsi4a5SBA"
      },
      "execution_count": null,
      "outputs": []
    },
    {
      "cell_type": "code",
      "source": [
        "from flask_sqlalchemy import SQLAlchemy\n",
        "from flask_login import UserMixin\n",
        "\n",
        "db = SQLAlchemy()\n",
        "\n",
        "class User(db.Model, UserMixin):\n",
        "    id = db.Column(db.Integer, primary_key=True)\n",
        "    username = db.Column(db.String(150), unique=True, nullable=False)\n",
        "    email = db.Column(db.String(150), unique=True, nullable=False)\n",
        "    password = db.Column(db.String(150), nullable=False)\n",
        "    steps = db.Column(db.Integer, default=0)  # Steps count\n",
        "    calories_burned = db.Column(db.Integer, default=0)  # Calories burned\n",
        "\n",
        "class ActivityLog(db.Model):\n",
        "    id = db.Column(db.Integer, primary_key=True)\n",
        "    user_id = db.Column(db.Integer, db.ForeignKey('user.id'), nullable=False)\n",
        "    exercise_type = db.Column(db.String(100))\n",
        "    duration = db.Column(db.Integer)  # Duration in minutes\n",
        "    calories_burned = db.Column(db.Integer)\n",
        "\n",
        "    user = db.relationship('User', backref=db.backref('activities', lazy=True))\n"
      ],
      "metadata": {
        "id": "j9EcimOf5VPO"
      },
      "execution_count": null,
      "outputs": []
    },
    {
      "cell_type": "code",
      "source": [
        "from flask import render_template, request, redirect, url_for\n",
        "from app import app, db\n",
        "from models import User, ActivityLog\n",
        "from flask_login import login_user, login_required, current_user\n",
        "\n",
        "@app.route('/')\n",
        "def index():\n",
        "    return render_template('index.html')\n",
        "\n",
        "@app.route('/register', methods=['GET', 'POST'])\n",
        "def register():\n",
        "    if request.method == 'POST':\n",
        "        # Registration logic\n",
        "        pass\n",
        "    return render_template('register.html')\n",
        "\n",
        "@app.route('/login', methods=['GET', 'POST'])\n",
        "def login():\n",
        "    if request.method == 'POST':\n",
        "        # Login logic\n",
        "        pass\n",
        "    return render_template('login.html')\n",
        "\n",
        "@app.route('/track', methods=['GET', 'POST'])\n",
        "@login_required\n",
        "def track_activity():\n",
        "    if request.method == 'POST':\n",
        "        exercise = request.form['exercise']\n",
        "        duration = request.form['duration']\n",
        "        calories = int(duration) * 10  # Simplified calorie calculation\n",
        "        new_activity = ActivityLog(user_id=current_user.id, exercise_type=exercise, duration=duration, calories_burned=calories)\n",
        "        db.session.add(new_activity)\n",
        "        db.session.commit()\n",
        "\n",
        "        current_user.steps += int(duration)  # Update steps or other metrics\n",
        "        current_user.calories_burned += calories\n",
        "        db.session.commit()\n",
        "\n",
        "    return render_template('track.html')\n"
      ],
      "metadata": {
        "id": "HEgWbYGB5aDT"
      },
      "execution_count": null,
      "outputs": []
    },
    {
      "cell_type": "code",
      "source": [
        "<!DOCTYPE html>\n",
        "<html lang=\"en\">\n",
        "<head>\n",
        "    <meta charset=\"UTF-8\">\n",
        "    <meta name=\"viewport\" content=\"width=device-width, initial-scale=1.0\">\n",
        "    <title>Fitness Tracker</title>\n",
        "    <link rel=\"stylesheet\" href=\"{{ url_for('static', filename='style.css') }}\">\n",
        "</head>\n",
        "<body>\n",
        "    <header>\n",
        "        <h1>Welcome to Fitness Tracker</h1>\n",
        "        <nav>\n",
        "            <a href=\"{{ url_for('login') }}\">Login</a> | <a href=\"{{ url_for('register') }}\">Register</a>\n",
        "        </nav>\n",
        "    </header>\n",
        "\n",
        "    <main>\n",
        "        <h2>Track Your Fitness</h2>\n",
        "        <form action=\"{{ url_for('track_activity') }}\" method=\"POST\">\n",
        "            <label for=\"exercise\">Exercise Type:</label>\n",
        "            <input type=\"text\" id=\"exercise\" name=\"exercise\" required>\n",
        "            <label for=\"duration\">Duration (minutes):</label>\n",
        "            <input type=\"number\" id=\"duration\" name=\"duration\" required>\n",
        "            <button type=\"submit\">Track</button>\n",
        "        </form>\n",
        "    </main>\n",
        "</body>\n",
        "</html>\n"
      ],
      "metadata": {
        "id": "9eMFZNGF5gPu"
      },
      "execution_count": null,
      "outputs": []
    },
    {
      "cell_type": "code",
      "source": [
        "body {\n",
        "    font-family: Arial, sans-serif;\n",
        "    margin: 0;\n",
        "    padding: 0;\n",
        "}\n",
        "\n",
        "header {\n",
        "    background-color: #333;\n",
        "    color: white;\n",
        "    padding: 1rem;\n",
        "}\n",
        "\n",
        "header h1 {\n",
        "    margin: 0;\n",
        "}\n",
        "\n",
        "nav a {\n",
        "    color: white;\n",
        "    margin-left: 10px;\n",
        "    text-decoration: none;\n",
        "}\n",
        "\n",
        "main {\n",
        "    padding: 2rem;\n",
        "}\n",
        "\n",
        "form {\n",
        "    margin-top: 20px;\n",
        "}\n",
        "\n",
        "label {\n",
        "    display: block;\n",
        "    margin: 5px 0;\n",
        "}\n",
        "\n",
        "input {\n",
        "    padding: 5px;\n",
        "    margin: 5px 0;\n",
        "}\n",
        "\n",
        "button {\n",
        "    padding: 5px 10px;\n",
        "    background-color: #333;\n",
        "    color: white;\n",
        "    border: none;\n",
        "}\n"
      ],
      "metadata": {
        "id": "7xEdpEqH5kDa"
      },
      "execution_count": null,
      "outputs": []
    },
    {
      "cell_type": "code",
      "source": [
        "<script src=\"https://cdn.jsdelivr.net/npm/chart.js\"></script>\n",
        "<canvas id=\"myChart\" width=\"400\" height=\"200\"></canvas>\n",
        "<script>\n",
        "    var ctx = document.getElementById('myChart').getContext('2d');\n",
        "    var myChart = new Chart(ctx, {\n",
        "        type: 'line',\n",
        "        data: {\n",
        "            labels: ['January', 'February', 'March', 'April', 'May'],\n",
        "            datasets: [{\n",
        "                label: 'Calories Burned',\n",
        "                data: [120, 150, 180, 220, 300],\n",
        "                borderColor: 'rgba(75, 192, 192, 1)',\n",
        "                borderWidth: 1\n",
        "            }]\n",
        "        }\n",
        "    });\n",
        "</script>\n"
      ],
      "metadata": {
        "id": "0gbxkFmj5nmi"
      },
      "execution_count": null,
      "outputs": []
    },
    {
      "cell_type": "code",
      "source": [],
      "metadata": {
        "id": "z8A3uaDr5qVC"
      },
      "execution_count": null,
      "outputs": []
    }
  ]
}
